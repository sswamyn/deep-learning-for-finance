{
 "cells": [
  {
   "cell_type": "markdown",
   "id": "3695f27a-e381-4f89-8fdd-fe26f03be4f6",
   "metadata": {},
   "source": [
    "## Deep Learning for Finance \n",
    "\n",
    "> based on the book by Sofien Kaabar\n",
    "\n",
    "Latest version can be found at https://github.com/sswamyn/deep-learning-for-finance.git in the '''notebooks''' folder\n"
   ]
  },
  {
   "cell_type": "markdown",
   "id": "b059c75d-4d95-4ebd-99ff-4f691d36acb7",
   "metadata": {},
   "source": [
    "#### Chapter 1 - tbd... \n",
    "\n",
    "> ... to be summarized "
   ]
  },
  {
   "cell_type": "code",
   "execution_count": 3,
   "id": "5938efa8-ef1e-4bb2-b12c-dfed0e558af9",
   "metadata": {},
   "outputs": [],
   "source": [
    "# Importing the required library\n",
    "import pandas_datareader as pdr\n",
    "\n",
    "# Setting the beginning and end of the historical data\n",
    "start_date = '1990-01-01'\n",
    "end_date   = '2024-04-01' # April fools day ;) "
   ]
  },
  {
   "cell_type": "code",
   "execution_count": 5,
   "id": "1fd7e950-9ba0-4782-bc3e-043433f1a613",
   "metadata": {},
   "outputs": [
    {
     "name": "stdout",
     "output_type": "stream",
     "text": [
      "            VIXCLS\n",
      "DATE              \n",
      "2024-03-22   13.06\n",
      "2024-03-25   13.19\n",
      "2024-03-26   13.24\n",
      "2024-03-27   12.78\n",
      "2024-03-28   13.01\n"
     ]
    }
   ],
   "source": [
    "# Creating a dataframe and downloading the VIX data\n",
    "#    Pulling data from FRED - Federal Reserve Economic Data\n",
    "#    hosted/provided by St Louis FED \n",
    "vix = pdr.DataReader('VIXCLS', 'fred', start_date, end_date)\n",
    "\n",
    "# VIXCLS - Source: Chicago Board Options Exchange[https://www.cboe.com/] Volatility Index \n",
    "\n",
    "# Printing the latest five observations of the dataframe\n",
    "print(vix.tail())"
   ]
  },
  {
   "cell_type": "code",
   "execution_count": null,
   "id": "5ea07970-689e-45ec-bcbb-9ffc45f0a10f",
   "metadata": {},
   "outputs": [],
   "source": []
  }
 ],
 "metadata": {
  "kernelspec": {
   "display_name": "Python 3 (ipykernel)",
   "language": "python",
   "name": "python3"
  },
  "language_info": {
   "codemirror_mode": {
    "name": "ipython",
    "version": 3
   },
   "file_extension": ".py",
   "mimetype": "text/x-python",
   "name": "python",
   "nbconvert_exporter": "python",
   "pygments_lexer": "ipython3",
   "version": "3.12.1"
  }
 },
 "nbformat": 4,
 "nbformat_minor": 5
}
